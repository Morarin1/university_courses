{
 "cells": [
  {
   "cell_type": "code",
   "execution_count": 18,
   "id": "cbb1179b",
   "metadata": {
    "scrolled": true
   },
   "outputs": [
    {
     "name": "stdout",
     "output_type": "stream",
     "text": [
      "Setup Complete\n"
     ]
    }
   ],
   "source": [
    "import re\n",
    "import os\n",
    "import urllib\n",
    "from datetime import datetime\n",
    "import pandas as pd\n",
    "pd.plotting.register_matplotlib_converters()\n",
    "import matplotlib.pyplot as plt\n",
    "%matplotlib inline\n",
    "import seaborn as sns\n",
    "print(\"Setup Complete\")"
   ]
  },
  {
   "cell_type": "code",
   "execution_count": 19,
   "id": "9121009e",
   "metadata": {},
   "outputs": [],
   "source": [
    "regions = ['Cherkasy', 'Chernihiv', 'Chernivtsi', 'Crimea', \"Dnipropetrovs'k\", \"Donets'k\", \"Ivano-Frankivs'k\", 'Kharkiv', 'Kherson', \"Khmel'nyts'kyy\", 'Kiev', 'Kie', 'Kirovohrad', \"Luhans'k\", \"L'viv\", 'Mykolayiv', 'Odessa', 'Poltava', 'Rivne', \"Sevastopol'\", 'Sumy', \"Ternopil'\", 'Transcarpathia', 'Vinnytsya', 'Volyn', 'Zaporizhzhya', 'Zhytomyr',]"
   ]
  },
  {
   "cell_type": "code",
   "execution_count": 20,
   "id": "d5b3a7aa",
   "metadata": {},
   "outputs": [],
   "source": [
    "def get_data_by_id(i):\n",
    "    url=f'https://www.star.nesdis.noaa.gov/smcd/emb/vci/VH/get_TS_admin.php?country=UKR&provinceID={i}&year1=1981&year2=2022&type=Mean'\n",
    "    wp = urllib.request.urlopen(url)\n",
    "    text = wp.read()\n",
    "    with open(f'star/UKR_{i}_{datetime.now().strftime(\"%Y-%m-%d-%H:%M:%S\")}.csv', 'wb') as file:\n",
    "        file.write(text)"
   ]
  },
  {
   "cell_type": "code",
   "execution_count": 23,
   "id": "5334266a",
   "metadata": {},
   "outputs": [],
   "source": [
    "for i in range(1,28):\n",
    "    get_data_by_id(i)"
   ]
  },
  {
   "cell_type": "code",
   "execution_count": 35,
   "id": "3038e779",
   "metadata": {},
   "outputs": [],
   "source": [
    "def remove_tags(string):\n",
    "    result = re.sub('<.*?>','',string)\n",
    "    return result\n",
    "\n",
    "\n",
    "def create_dataframe(path):\n",
    "    concatenate_files=[]\n",
    "    for filename in os.listdir(path):\n",
    "        f = os.path.join(path, filename)\n",
    "        if os.path.isfile(f): \n",
    "            headers = ['Year', 'Week', 'SMN', 'SMT', 'VCI', 'TCI', 'VHI', 'area']\n",
    "            df = pd.read_csv(f, header = 1, names = headers)\n",
    "            \n",
    "            df['Year']=df['Year'].apply(lambda cw : remove_tags(cw))\n",
    "            df = df.drop(df.loc[df['VHI'] == -1].index)\n",
    "            df = df[df['Week'].notna()]\n",
    "            df['area'] = f.split('_')[1]\n",
    "            \n",
    "            concatenate_files.append(df)\n",
    "    return pd.concat(concatenate_files, axis=0, ignore_index=True)"
   ]
  },
  {
   "cell_type": "code",
   "execution_count": 36,
   "id": "2d76437b",
   "metadata": {
    "scrolled": true
   },
   "outputs": [
    {
     "data": {
      "text/html": [
       "<div>\n",
       "<style scoped>\n",
       "    .dataframe tbody tr th:only-of-type {\n",
       "        vertical-align: middle;\n",
       "    }\n",
       "\n",
       "    .dataframe tbody tr th {\n",
       "        vertical-align: top;\n",
       "    }\n",
       "\n",
       "    .dataframe thead th {\n",
       "        text-align: right;\n",
       "    }\n",
       "</style>\n",
       "<table border=\"1\" class=\"dataframe\">\n",
       "  <thead>\n",
       "    <tr style=\"text-align: right;\">\n",
       "      <th></th>\n",
       "      <th>Year</th>\n",
       "      <th>Week</th>\n",
       "      <th>SMN</th>\n",
       "      <th>SMT</th>\n",
       "      <th>VCI</th>\n",
       "      <th>TCI</th>\n",
       "      <th>VHI</th>\n",
       "      <th>area</th>\n",
       "    </tr>\n",
       "  </thead>\n",
       "  <tbody>\n",
       "    <tr>\n",
       "      <th>55021</th>\n",
       "      <td>2022</td>\n",
       "      <td>4.0</td>\n",
       "      <td>0.099</td>\n",
       "      <td>266.96</td>\n",
       "      <td>57.74</td>\n",
       "      <td>32.16</td>\n",
       "      <td>44.95</td>\n",
       "      <td>15</td>\n",
       "    </tr>\n",
       "    <tr>\n",
       "      <th>55022</th>\n",
       "      <td>2022</td>\n",
       "      <td>5.0</td>\n",
       "      <td>0.106</td>\n",
       "      <td>267.92</td>\n",
       "      <td>56.78</td>\n",
       "      <td>33.91</td>\n",
       "      <td>45.34</td>\n",
       "      <td>15</td>\n",
       "    </tr>\n",
       "    <tr>\n",
       "      <th>55023</th>\n",
       "      <td>2022</td>\n",
       "      <td>6.0</td>\n",
       "      <td>0.116</td>\n",
       "      <td>269.46</td>\n",
       "      <td>56.76</td>\n",
       "      <td>33.72</td>\n",
       "      <td>45.24</td>\n",
       "      <td>15</td>\n",
       "    </tr>\n",
       "    <tr>\n",
       "      <th>55024</th>\n",
       "      <td>2022</td>\n",
       "      <td>7.0</td>\n",
       "      <td>0.132</td>\n",
       "      <td>271.47</td>\n",
       "      <td>60.39</td>\n",
       "      <td>30.71</td>\n",
       "      <td>45.55</td>\n",
       "      <td>15</td>\n",
       "    </tr>\n",
       "    <tr>\n",
       "      <th>55025</th>\n",
       "      <td>2022</td>\n",
       "      <td>8.0</td>\n",
       "      <td>0.147</td>\n",
       "      <td>272.78</td>\n",
       "      <td>63.43</td>\n",
       "      <td>31.12</td>\n",
       "      <td>47.27</td>\n",
       "      <td>15</td>\n",
       "    </tr>\n",
       "  </tbody>\n",
       "</table>\n",
       "</div>"
      ],
      "text/plain": [
       "       Year  Week    SMN     SMT    VCI    TCI    VHI area\n",
       "55021  2022   4.0  0.099  266.96  57.74  32.16  44.95   15\n",
       "55022  2022   5.0  0.106  267.92  56.78  33.91  45.34   15\n",
       "55023  2022   6.0  0.116  269.46  56.76  33.72  45.24   15\n",
       "55024  2022   7.0  0.132  271.47  60.39  30.71  45.55   15\n",
       "55025  2022   8.0  0.147  272.78  63.43  31.12  47.27   15"
      ]
     },
     "execution_count": 36,
     "metadata": {},
     "output_type": "execute_result"
    }
   ],
   "source": [
    "df = create_dataframe('./star')\n",
    "df.tail()"
   ]
  },
  {
   "cell_type": "code",
   "execution_count": 25,
   "id": "fa374ad0",
   "metadata": {},
   "outputs": [
    {
     "data": {
      "text/html": [
       "<div>\n",
       "<style scoped>\n",
       "    .dataframe tbody tr th:only-of-type {\n",
       "        vertical-align: middle;\n",
       "    }\n",
       "\n",
       "    .dataframe tbody tr th {\n",
       "        vertical-align: top;\n",
       "    }\n",
       "\n",
       "    .dataframe thead th {\n",
       "        text-align: right;\n",
       "    }\n",
       "</style>\n",
       "<table border=\"1\" class=\"dataframe\">\n",
       "  <thead>\n",
       "    <tr style=\"text-align: right;\">\n",
       "      <th></th>\n",
       "      <th>Year</th>\n",
       "      <th>Week</th>\n",
       "      <th>SMN</th>\n",
       "      <th>SMT</th>\n",
       "      <th>VCI</th>\n",
       "      <th>TCI</th>\n",
       "      <th>VHI</th>\n",
       "      <th>area</th>\n",
       "    </tr>\n",
       "  </thead>\n",
       "  <tbody>\n",
       "    <tr>\n",
       "      <th>55021</th>\n",
       "      <td>2022</td>\n",
       "      <td>4.0</td>\n",
       "      <td>0.099</td>\n",
       "      <td>266.96</td>\n",
       "      <td>57.74</td>\n",
       "      <td>32.16</td>\n",
       "      <td>44.95</td>\n",
       "      <td>L'viv</td>\n",
       "    </tr>\n",
       "    <tr>\n",
       "      <th>55022</th>\n",
       "      <td>2022</td>\n",
       "      <td>5.0</td>\n",
       "      <td>0.106</td>\n",
       "      <td>267.92</td>\n",
       "      <td>56.78</td>\n",
       "      <td>33.91</td>\n",
       "      <td>45.34</td>\n",
       "      <td>L'viv</td>\n",
       "    </tr>\n",
       "    <tr>\n",
       "      <th>55023</th>\n",
       "      <td>2022</td>\n",
       "      <td>6.0</td>\n",
       "      <td>0.116</td>\n",
       "      <td>269.46</td>\n",
       "      <td>56.76</td>\n",
       "      <td>33.72</td>\n",
       "      <td>45.24</td>\n",
       "      <td>L'viv</td>\n",
       "    </tr>\n",
       "    <tr>\n",
       "      <th>55024</th>\n",
       "      <td>2022</td>\n",
       "      <td>7.0</td>\n",
       "      <td>0.132</td>\n",
       "      <td>271.47</td>\n",
       "      <td>60.39</td>\n",
       "      <td>30.71</td>\n",
       "      <td>45.55</td>\n",
       "      <td>L'viv</td>\n",
       "    </tr>\n",
       "    <tr>\n",
       "      <th>55025</th>\n",
       "      <td>2022</td>\n",
       "      <td>8.0</td>\n",
       "      <td>0.147</td>\n",
       "      <td>272.78</td>\n",
       "      <td>63.43</td>\n",
       "      <td>31.12</td>\n",
       "      <td>47.27</td>\n",
       "      <td>L'viv</td>\n",
       "    </tr>\n",
       "  </tbody>\n",
       "</table>\n",
       "</div>"
      ],
      "text/plain": [
       "       Year  Week    SMN     SMT    VCI    TCI    VHI   area\n",
       "55021  2022   4.0  0.099  266.96  57.74  32.16  44.95  L'viv\n",
       "55022  2022   5.0  0.106  267.92  56.78  33.91  45.34  L'viv\n",
       "55023  2022   6.0  0.116  269.46  56.76  33.72  45.24  L'viv\n",
       "55024  2022   7.0  0.132  271.47  60.39  30.71  45.55  L'viv\n",
       "55025  2022   8.0  0.147  272.78  63.43  31.12  47.27  L'viv"
      ]
     },
     "execution_count": 25,
     "metadata": {},
     "output_type": "execute_result"
    }
   ],
   "source": [
    "def change_id_to_name(i):\n",
    "    return regions[int(i)-1]\n",
    "df[\"area\"] = df[\"area\"].apply(change_id_to_name)\n",
    "df.tail()"
   ]
  },
  {
   "cell_type": "code",
   "execution_count": 37,
   "id": "20a8e141",
   "metadata": {
    "scrolled": true
   },
   "outputs": [
    {
     "data": {
      "text/html": [
       "<div>\n",
       "<style scoped>\n",
       "    .dataframe tbody tr th:only-of-type {\n",
       "        vertical-align: middle;\n",
       "    }\n",
       "\n",
       "    .dataframe tbody tr th {\n",
       "        vertical-align: top;\n",
       "    }\n",
       "\n",
       "    .dataframe thead th {\n",
       "        text-align: right;\n",
       "    }\n",
       "</style>\n",
       "<table border=\"1\" class=\"dataframe\">\n",
       "  <thead>\n",
       "    <tr style=\"text-align: right;\">\n",
       "      <th></th>\n",
       "      <th>Year</th>\n",
       "      <th>Week</th>\n",
       "      <th>SMN</th>\n",
       "      <th>SMT</th>\n",
       "      <th>VCI</th>\n",
       "      <th>TCI</th>\n",
       "      <th>VHI</th>\n",
       "      <th>area</th>\n",
       "    </tr>\n",
       "  </thead>\n",
       "  <tbody>\n",
       "    <tr>\n",
       "      <th>55021</th>\n",
       "      <td>2022</td>\n",
       "      <td>4.0</td>\n",
       "      <td>0.099</td>\n",
       "      <td>266.96</td>\n",
       "      <td>57.74</td>\n",
       "      <td>32.16</td>\n",
       "      <td>44.95</td>\n",
       "      <td>L'viv</td>\n",
       "    </tr>\n",
       "    <tr>\n",
       "      <th>55022</th>\n",
       "      <td>2022</td>\n",
       "      <td>5.0</td>\n",
       "      <td>0.106</td>\n",
       "      <td>267.92</td>\n",
       "      <td>56.78</td>\n",
       "      <td>33.91</td>\n",
       "      <td>45.34</td>\n",
       "      <td>L'viv</td>\n",
       "    </tr>\n",
       "    <tr>\n",
       "      <th>55023</th>\n",
       "      <td>2022</td>\n",
       "      <td>6.0</td>\n",
       "      <td>0.116</td>\n",
       "      <td>269.46</td>\n",
       "      <td>56.76</td>\n",
       "      <td>33.72</td>\n",
       "      <td>45.24</td>\n",
       "      <td>L'viv</td>\n",
       "    </tr>\n",
       "    <tr>\n",
       "      <th>55024</th>\n",
       "      <td>2022</td>\n",
       "      <td>7.0</td>\n",
       "      <td>0.132</td>\n",
       "      <td>271.47</td>\n",
       "      <td>60.39</td>\n",
       "      <td>30.71</td>\n",
       "      <td>45.55</td>\n",
       "      <td>L'viv</td>\n",
       "    </tr>\n",
       "    <tr>\n",
       "      <th>55025</th>\n",
       "      <td>2022</td>\n",
       "      <td>8.0</td>\n",
       "      <td>0.147</td>\n",
       "      <td>272.78</td>\n",
       "      <td>63.43</td>\n",
       "      <td>31.12</td>\n",
       "      <td>47.27</td>\n",
       "      <td>L'viv</td>\n",
       "    </tr>\n",
       "  </tbody>\n",
       "</table>\n",
       "</div>"
      ],
      "text/plain": [
       "       Year  Week    SMN     SMT    VCI    TCI    VHI   area\n",
       "55021  2022   4.0  0.099  266.96  57.74  32.16  44.95  L'viv\n",
       "55022  2022   5.0  0.106  267.92  56.78  33.91  45.34  L'viv\n",
       "55023  2022   6.0  0.116  269.46  56.76  33.72  45.24  L'viv\n",
       "55024  2022   7.0  0.132  271.47  60.39  30.71  45.55  L'viv\n",
       "55025  2022   8.0  0.147  272.78  63.43  31.12  47.27  L'viv"
      ]
     },
     "execution_count": 37,
     "metadata": {},
     "output_type": "execute_result"
    }
   ],
   "source": [
    "def change_id_to_name_2():\n",
    "    for i in set(df.area):\n",
    "        df[\"area\"].replace({i:regions[int(i)-1]}, inplace = True)\n",
    "change_id_to_name_2()\n",
    "df.tail()"
   ]
  },
  {
   "cell_type": "code",
   "execution_count": 81,
   "id": "c9be2ad5",
   "metadata": {
    "scrolled": true
   },
   "outputs": [
    {
     "name": "stdout",
     "output_type": "stream",
     "text": [
      "6106    44.22\n",
      "6107    44.16\n",
      "6108    43.91\n",
      "6109    41.53\n",
      "6110    40.69\n",
      "6111    39.29\n",
      "6112    38.23\n",
      "6113    37.95\n",
      "Name: VHI, dtype: float64 \n",
      " 44.22 37.95\n"
     ]
    }
   ],
   "source": [
    "index=\"Zaporizhzhya\"\n",
    "year='2022'\n",
    "VHI = df[(df[\"area\"] == index) & (df[\"Year\"] == year)]['VHI']\n",
    "print(VHI, '\\n',  VHI.max(), VHI.min())"
   ]
  },
  {
   "cell_type": "code",
   "execution_count": 82,
   "id": "1ce41c25",
   "metadata": {},
   "outputs": [
    {
     "data": {
      "text/plain": [
       "{'2007'}"
      ]
     },
     "execution_count": 82,
     "metadata": {},
     "output_type": "execute_result"
    }
   ],
   "source": [
    "set(df[((df[\"area\"] == index) & (df.VHI <= 15))]['Year'])"
   ]
  },
  {
   "cell_type": "code",
   "execution_count": null,
   "id": "e122c8ba",
   "metadata": {},
   "outputs": [],
   "source": []
  }
 ],
 "metadata": {
  "kernelspec": {
   "display_name": "Python 3 (ipykernel)",
   "language": "python",
   "name": "python3"
  },
  "language_info": {
   "codemirror_mode": {
    "name": "ipython",
    "version": 3
   },
   "file_extension": ".py",
   "mimetype": "text/x-python",
   "name": "python",
   "nbconvert_exporter": "python",
   "pygments_lexer": "ipython3",
   "version": "3.9.7"
  }
 },
 "nbformat": 4,
 "nbformat_minor": 5
}
