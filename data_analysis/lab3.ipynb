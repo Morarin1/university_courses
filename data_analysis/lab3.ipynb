{
 "cells": [
  {
   "cell_type": "code",
   "execution_count": 1,
   "id": "bc08b3a2-9d13-4a89-9e1b-5f6ac1faee7d",
   "metadata": {},
   "outputs": [],
   "source": [
    "import pandas as pd\n",
    "import numpy as np\n",
    "from datetime import datetime\n",
    "import time"
   ]
  },
  {
   "cell_type": "code",
   "execution_count": 2,
   "id": "0ae4df37-383d-4e0f-91c8-ad21faa6c962",
   "metadata": {},
   "outputs": [],
   "source": [
    "filepath='./household_power_consumption.txt'"
   ]
  },
  {
   "cell_type": "code",
   "execution_count": 3,
   "id": "915b8282-ae20-4aad-a592-22af2fcd0c99",
   "metadata": {},
   "outputs": [],
   "source": [
    "data_house_df = pd.read_table(filepath, delimiter = ';', low_memory=False)\n",
    "data_house_df = data_house_df[data_house_df.Global_active_power != '?']\n",
    "\n",
    "data_house_np = np.loadtxt(filepath, dtype='str', delimiter=\";\")\n",
    "data_house_np = data_house_np[~np.any(data_house_np == '?', axis=1)]\n",
    "data_house_np = data_house_np[1:]"
   ]
  },
  {
   "cell_type": "code",
   "execution_count": 4,
   "id": "14aaad8a-d765-41f9-910f-2fe5fedeca93",
   "metadata": {},
   "outputs": [
    {
     "data": {
      "text/html": [
       "<div>\n",
       "<style scoped>\n",
       "    .dataframe tbody tr th:only-of-type {\n",
       "        vertical-align: middle;\n",
       "    }\n",
       "\n",
       "    .dataframe tbody tr th {\n",
       "        vertical-align: top;\n",
       "    }\n",
       "\n",
       "    .dataframe thead th {\n",
       "        text-align: right;\n",
       "    }\n",
       "</style>\n",
       "<table border=\"1\" class=\"dataframe\">\n",
       "  <thead>\n",
       "    <tr style=\"text-align: right;\">\n",
       "      <th></th>\n",
       "      <th>Date</th>\n",
       "      <th>Time</th>\n",
       "      <th>Global_active_power</th>\n",
       "      <th>Global_reactive_power</th>\n",
       "      <th>Voltage</th>\n",
       "      <th>Global_intensity</th>\n",
       "      <th>Sub_metering_1</th>\n",
       "      <th>Sub_metering_2</th>\n",
       "      <th>Sub_metering_3</th>\n",
       "    </tr>\n",
       "  </thead>\n",
       "  <tbody>\n",
       "    <tr>\n",
       "      <th>0</th>\n",
       "      <td>16/12/2006</td>\n",
       "      <td>17:24:00</td>\n",
       "      <td>4.216</td>\n",
       "      <td>0.418</td>\n",
       "      <td>234.840</td>\n",
       "      <td>18.400</td>\n",
       "      <td>0.000</td>\n",
       "      <td>1.000</td>\n",
       "      <td>17.0</td>\n",
       "    </tr>\n",
       "    <tr>\n",
       "      <th>1</th>\n",
       "      <td>16/12/2006</td>\n",
       "      <td>17:25:00</td>\n",
       "      <td>5.360</td>\n",
       "      <td>0.436</td>\n",
       "      <td>233.630</td>\n",
       "      <td>23.000</td>\n",
       "      <td>0.000</td>\n",
       "      <td>1.000</td>\n",
       "      <td>16.0</td>\n",
       "    </tr>\n",
       "    <tr>\n",
       "      <th>2</th>\n",
       "      <td>16/12/2006</td>\n",
       "      <td>17:26:00</td>\n",
       "      <td>5.374</td>\n",
       "      <td>0.498</td>\n",
       "      <td>233.290</td>\n",
       "      <td>23.000</td>\n",
       "      <td>0.000</td>\n",
       "      <td>2.000</td>\n",
       "      <td>17.0</td>\n",
       "    </tr>\n",
       "    <tr>\n",
       "      <th>3</th>\n",
       "      <td>16/12/2006</td>\n",
       "      <td>17:27:00</td>\n",
       "      <td>5.388</td>\n",
       "      <td>0.502</td>\n",
       "      <td>233.740</td>\n",
       "      <td>23.000</td>\n",
       "      <td>0.000</td>\n",
       "      <td>1.000</td>\n",
       "      <td>17.0</td>\n",
       "    </tr>\n",
       "    <tr>\n",
       "      <th>4</th>\n",
       "      <td>16/12/2006</td>\n",
       "      <td>17:28:00</td>\n",
       "      <td>3.666</td>\n",
       "      <td>0.528</td>\n",
       "      <td>235.680</td>\n",
       "      <td>15.800</td>\n",
       "      <td>0.000</td>\n",
       "      <td>1.000</td>\n",
       "      <td>17.0</td>\n",
       "    </tr>\n",
       "  </tbody>\n",
       "</table>\n",
       "</div>"
      ],
      "text/plain": [
       "         Date      Time Global_active_power Global_reactive_power  Voltage  \\\n",
       "0  16/12/2006  17:24:00               4.216                 0.418  234.840   \n",
       "1  16/12/2006  17:25:00               5.360                 0.436  233.630   \n",
       "2  16/12/2006  17:26:00               5.374                 0.498  233.290   \n",
       "3  16/12/2006  17:27:00               5.388                 0.502  233.740   \n",
       "4  16/12/2006  17:28:00               3.666                 0.528  235.680   \n",
       "\n",
       "  Global_intensity Sub_metering_1 Sub_metering_2  Sub_metering_3  \n",
       "0           18.400          0.000          1.000            17.0  \n",
       "1           23.000          0.000          1.000            16.0  \n",
       "2           23.000          0.000          2.000            17.0  \n",
       "3           23.000          0.000          1.000            17.0  \n",
       "4           15.800          0.000          1.000            17.0  "
      ]
     },
     "execution_count": 4,
     "metadata": {},
     "output_type": "execute_result"
    }
   ],
   "source": [
    "data_house_df.head()"
   ]
  },
  {
   "cell_type": "code",
   "execution_count": 5,
   "id": "eac24e60-a2b9-48cf-97c4-b6b180d2dd69",
   "metadata": {},
   "outputs": [
    {
     "name": "stdout",
     "output_type": "stream",
     "text": [
      "[['16/12/2006' '17:24:00' '4.216' '0.418' '234.840' '18.400' '0.000'\n",
      "  '1.000' '17.000']\n",
      " ['16/12/2006' '17:25:00' '5.360' '0.436' '233.630' '23.000' '0.000'\n",
      "  '1.000' '16.000']\n",
      " ['16/12/2006' '17:26:00' '5.374' '0.498' '233.290' '23.000' '0.000'\n",
      "  '2.000' '17.000']\n",
      " ['16/12/2006' '17:27:00' '5.388' '0.502' '233.740' '23.000' '0.000'\n",
      "  '1.000' '17.000']]\n"
     ]
    }
   ],
   "source": [
    "print(data_house_np[:4])"
   ]
  },
  {
   "cell_type": "code",
   "execution_count": 6,
   "id": "48fd0108-da25-481f-9896-fb3def3e952d",
   "metadata": {},
   "outputs": [
    {
     "name": "stdout",
     "output_type": "stream",
     "text": [
      "df:  0:00:00.192719\n",
      "np:  0:00:00.727424\n"
     ]
    }
   ],
   "source": [
    "start_time = datetime.now()\n",
    "data_house_df_Global_active_power_more_5 = data_house_df[data_house_df.Global_active_power.astype(float) > 5]\n",
    "df_1 = datetime.now() - start_time\n",
    "print('df: ', df_1)\n",
    "\n",
    "start_time = datetime.now()\n",
    "data_house_np_Global_active_power_more_5 = data_house_np[:][np.where(data_house_np[:,2].astype(float) > 5)]\n",
    "np_1 = datetime.now() - start_time\n",
    "print('np: ', np_1)\n",
    "\n",
    "#print(len(data_house_df_Global_active_power_more_5),\n",
    "#len(data_house_np_Global_active_power_more_5))"
   ]
  },
  {
   "cell_type": "code",
   "execution_count": 7,
   "id": "c02567b7-5c4c-4866-a3b5-d6bc7be557a7",
   "metadata": {},
   "outputs": [
    {
     "name": "stdout",
     "output_type": "stream",
     "text": [
      "df:  0:00:00.313018\n",
      "np:  0:00:01.121365\n"
     ]
    }
   ],
   "source": [
    "start_time = datetime.now()\n",
    "data_house_df_Voltage_more_235 = data_house_df[data_house_df.Voltage.astype(float) > 235]\n",
    "df_2 = datetime.now() - start_time\n",
    "print('df: ', df_2)\n",
    "\n",
    "start_time = datetime.now()\n",
    "data_house_np_Voltage_more_235 = data_house_np[:][np.where(data_house_np[:,4].astype(float) > 235)]\n",
    "np_2 = datetime.now() - start_time\n",
    "print('np: ', np_2)\n",
    "\n",
    "#print(len(data_house_df_Voltage_more_235),\n",
    "#len(data_house_np_Voltage_more_235))"
   ]
  },
  {
   "cell_type": "code",
   "execution_count": 8,
   "id": "2caed97d-911f-4d4e-b156-3cfa8b52fdc1",
   "metadata": {
    "tags": []
   },
   "outputs": [
    {
     "name": "stdout",
     "output_type": "stream",
     "text": [
      "df:  0:00:00.360270\n",
      "np:  0:00:01.486195\n"
     ]
    }
   ],
   "source": [
    "start_time = datetime.now()\n",
    "data_house_df_Global_intensity_1 = data_house_df[(data_house_df.Global_intensity.astype(float) >= 19) &\n",
    "                                              (data_house_df.Global_intensity.astype(float) <= 20)]\n",
    "data_house_df_Global_intensity_2 = data_house_df_Global_intensity_1[data_house_df_Global_intensity_1.Sub_metering_2.astype(float) > \n",
    "                                                                  data_house_df_Global_intensity_1.Sub_metering_3.astype(float)]\n",
    "df_3 = datetime.now() - start_time\n",
    "print('df: ', df_3)\n",
    "\n",
    "start_time = datetime.now()\n",
    "data_house_np_Global_intensity_1 = data_house_np[1:][np.where(np.logical_and(data_house_np[1:,5].astype(float) >= 19,\n",
    "                                                    data_house_np[1:,5].astype(float) <= 20))]\n",
    "\n",
    "data_house_np_Global_intensity_2 = data_house_np_Global_intensity_1[1:][np.greater(\n",
    "                                                                        data_house_np_Global_intensity_1[1:,7].astype(float),\n",
    "                                                                        data_house_np_Global_intensity_1[1:,8].astype(float))\n",
    "                                                                                 ]\n",
    "np_3 = datetime.now() - start_time\n",
    "print('np: ', np_3)\n",
    "#len(data_house_df_Global_intensity_2)"
   ]
  },
  {
   "cell_type": "code",
   "execution_count": 10,
   "id": "20e1aa8d-264e-4567-8e1f-05b84a587fbd",
   "metadata": {},
   "outputs": [
    {
     "name": "stdout",
     "output_type": "stream",
     "text": [
      "df:  0:00:00.161979\n"
     ]
    }
   ],
   "source": [
    "start_time = datetime.now()\n",
    "data_house_df_random = data_house_df.sample(n=50000)\n",
    "\n",
    "data_house_df_random_sub_metering_1_mean = data_house_df_random.Sub_metering_1.astype(float).mean()\n",
    "data_house_df_random_sub_metering_2_mean = data_house_df_random.Sub_metering_2.astype(float).mean()\n",
    "data_house_df_random_sub_metering_3_mean = data_house_df_random.Sub_metering_3.astype(float).mean()\n",
    "\n",
    "df_4 = datetime.now() - start_time\n",
    "print('df: ', df_4)"
   ]
  },
  {
   "cell_type": "code",
   "execution_count": 9,
   "id": "c8d117bd-2685-496d-9620-959df35d4e91",
   "metadata": {},
   "outputs": [
    {
     "name": "stdout",
     "output_type": "stream",
     "text": [
      "np:  0:00:00.931007\n"
     ]
    }
   ],
   "source": [
    "start_time = datetime.now()\n",
    "\n",
    "data_house_np_random = data_house_np[np.random.choice(data_house_np.shape[0], 500000, replace=False), :]\n",
    "data_house_np_random_sub_metering_1_mean  = np.mean((data_house_np_random[:,6].astype(float)))\n",
    "data_house_np_random_sub_metering_2_mean  = np.mean((data_house_np_random[:,7].astype(float)))\n",
    "data_house_np_random_sub_metering_3_mean  = np.mean((data_house_np_random[:,8].astype(float)))\n",
    "\n",
    "np_4 = datetime.now() - start_time\n",
    "print('np: ', np_4)"
   ]
  },
  {
   "cell_type": "code",
   "execution_count": 12,
   "id": "22da7fe2-e8d3-495b-8432-e424d10476aa",
   "metadata": {},
   "outputs": [
    {
     "name": "stdout",
     "output_type": "stream",
     "text": [
      "df:  0:00:01.665100\n"
     ]
    }
   ],
   "source": [
    "start_time = datetime.now()\n",
    "\n",
    "data_house_df.Time = data_house_df.Time.apply(lambda x: x.split(\":\")[0])\n",
    "data_house_df_time = data_house_df[(data_house_df.Time.astype(float)>18) &\n",
    "                                   (data_house_df.Global_active_power.astype(float)>6) &\n",
    "                                   (data_house_df.Sub_metering_2.astype(float)>\n",
    "                                   data_house_df.Sub_metering_1.astype(float) )&\n",
    "                                   (data_house_df.Sub_metering_2.astype(float)>\n",
    "                                   data_house_df.Sub_metering_3.astype(float))\n",
    "                                  ] \n",
    "\n",
    "data_house_df_time_first_half = data_house_df_time[:int(data_house_df_time.shape[0]/2)]\n",
    "data_house_df_time_second_half = data_house_df_time[int(data_house_df_time.shape[0]/2):]\n",
    "\n",
    "data_house_df_time_first_half = data_house_df_time_first_half.loc[[i for j, i in enumerate(data_house_df_time_first_half.index) if j % 3 == 0]]\n",
    "data_house_df_time_second_half = data_house_df_time_second_half.loc[[i for j, i in enumerate(data_house_df_time_second_half.index) if j % 4 == 0]]\n",
    "\n",
    "df_5 = datetime.now() - start_time\n",
    "print('df: ', df_5)"
   ]
  },
  {
   "cell_type": "code",
   "execution_count": 13,
   "id": "e2f26372-c412-4a45-aa95-02220884e24c",
   "metadata": {},
   "outputs": [
    {
     "name": "stdout",
     "output_type": "stream",
     "text": [
      "np:  0:00:06.090493\n"
     ]
    }
   ],
   "source": [
    "start_time = datetime.now()\n",
    "data_house_np_time = data_house_np\n",
    "get_time = lambda t: t.split(\":\")[0]\n",
    "data_house_np_time[:,1] = np.array([get_time(ti) for ti in data_house_np[:,1]])\n",
    "data_house_np_time = data_house_np_time[:][\n",
    "    np.where(np.logical_and(\n",
    "        np.logical_and(\n",
    "            data_house_np_time[:,1].astype(float) > 18,\n",
    "            data_house_np_time[:,2].astype(float) > 6,\n",
    "            ), \n",
    "        np.logical_and(\n",
    "            np.greater(data_house_np_time[:,7].astype(float), data_house_np_time[:,6].astype(float)),\n",
    "            np.greater(data_house_np_time[:,7].astype(float), data_house_np_time[:,8].astype(float))\n",
    "            )\n",
    "        )\n",
    "    )\n",
    "]\n",
    "\n",
    "data_house_np_time_first_half = data_house_np_time[:int(data_house_df_time.shape[0]/2):3]\n",
    "data_house_np_time_second_half = data_house_np_time[int(data_house_df_time.shape[0]/2)::4]\n",
    "\n",
    "np_5 = datetime.now() - start_time\n",
    "print('np: ', np_5)"
   ]
  },
  {
   "cell_type": "code",
   "execution_count": 22,
   "id": "3b70d267-2326-42cb-82d6-ce30854edd50",
   "metadata": {},
   "outputs": [
    {
     "name": "stdout",
     "output_type": "stream",
     "text": [
      "\n",
      "При виконанні завдань з цієї лабораторної роботи numpy виявився повільнішим приблизно в 3.85 рази ніж pandas\n",
      "Висновок:\n",
      "    Для роботи з табличними даними краще використовувати pandas\n",
      "\n"
     ]
    }
   ],
   "source": [
    "print(f\"\"\"\n",
    "При виконанні завдань з цієї лабораторної роботи numpy виявився повільнішим приблизно в {round((np_1+np_2+np_3+np_4+np_5)/(df_1+df_2+df_3+df_4+df_5), 2)} рази ніж pandas\n",
    "Висновок:\n",
    "    Для роботи з табличними даними краще використовувати pandas\n",
    "\"\"\")"
   ]
  },
  {
   "cell_type": "code",
   "execution_count": null,
   "id": "abc057e4-1f9b-473f-924a-e64568980cea",
   "metadata": {},
   "outputs": [],
   "source": []
  }
 ],
 "metadata": {
  "kernelspec": {
   "display_name": "Python 3 (ipykernel)",
   "language": "python",
   "name": "python3"
  },
  "language_info": {
   "codemirror_mode": {
    "name": "ipython",
    "version": 3
   },
   "file_extension": ".py",
   "mimetype": "text/x-python",
   "name": "python",
   "nbconvert_exporter": "python",
   "pygments_lexer": "ipython3",
   "version": "3.9.10"
  }
 },
 "nbformat": 4,
 "nbformat_minor": 5
}
